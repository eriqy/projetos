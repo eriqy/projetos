{
 "cells": [
  {
   "cell_type": "markdown",
   "id": "154cfd0c-e217-43ee-825e-aa6cbce4d594",
   "metadata": {
    "jp-MarkdownHeadingCollapsed": true
   },
   "source": [
    "# Importando bibliotecas Python para \"ETL\" e carregando os arquivos de dados"
   ]
  },
  {
   "cell_type": "code",
   "execution_count": 1,
   "id": "1fe32b57-6050-41ee-b7ce-570ab93aa542",
   "metadata": {},
   "outputs": [],
   "source": [
    "import pandas as pd\n",
    "import numpy as np"
   ]
  },
  {
   "cell_type": "code",
   "execution_count": 2,
   "id": "14333dd2-383d-4582-8641-a82690930a27",
   "metadata": {},
   "outputs": [],
   "source": [
    "clientes = pd.read_csv('C:\\\\Users\\\\èriqy\\\\Documents\\\\projetos\\\\dataScienceAcademy\\\\cap03\\\\etc\\\\datasets\\\\Clientes.csv', encoding='latin-1', sep=';')\n",
    "pedidos = pd.read_csv('C:\\\\Users\\\\èriqy\\\\Documents\\\\projetos\\\\dataScienceAcademy\\\\cap03\\\\etc\\\\datasets\\\\Pedidos.csv', encoding='latin-1', sep=';')\n",
    "produtos = pd.read_csv('C:\\\\Users\\\\èriqy\\\\Documents\\\\projetos\\\\dataScienceAcademy\\\\cap03\\\\etc\\\\datasets\\\\Produtos.csv', encoding='latin-1', sep='\\t')\n",
    "vendas = pd.read_csv('C:\\\\Users\\\\èriqy\\\\Documents\\\\projetos\\\\dataScienceAcademy\\\\cap03\\\\etc\\\\datasets\\\\Vendas.csv', encoding='latin-1', sep='\\t')"
   ]
  },
  {
   "cell_type": "markdown",
   "id": "73b1a9a4-e445-479e-b7e1-6697ae095a67",
   "metadata": {},
   "source": [
    "<br>"
   ]
  },
  {
   "cell_type": "markdown",
   "id": "2a97f66e-bb9a-4656-8bde-0e25058d22fe",
   "metadata": {
    "jp-MarkdownHeadingCollapsed": true
   },
   "source": [
    "# Juntando todas as tabelas em uma só e aplicando modelagem"
   ]
  },
  {
   "cell_type": "markdown",
   "id": "d62b9dc0-03e2-43f9-b2cc-6a8e2a9ec7bf",
   "metadata": {},
   "source": [
    "                                Removendo espaços em branco dos nomes das colunas para não ocasionar problemas de loading nos códigos."
   ]
  },
  {
   "cell_type": "code",
   "execution_count": 3,
   "id": "ec35c42f-aab2-48b9-bd88-84a44bd72f6e",
   "metadata": {},
   "outputs": [],
   "source": [
    "clientes.columns = clientes.columns.str.strip()\n",
    "pedidos.columns = pedidos.columns.str.strip()\n",
    "produtos.columns = produtos.columns.str.strip()\n",
    "vendas.columns = vendas.columns.str.strip()"
   ]
  },
  {
   "cell_type": "markdown",
   "id": "9fd69526-8978-4655-ab31-cbafe2c8d985",
   "metadata": {},
   "source": [
    "<br>"
   ]
  },
  {
   "cell_type": "markdown",
   "id": "b8153b46-42d7-4e93-af4b-537c7d2f6457",
   "metadata": {},
   "source": [
    "                                                                                    Combinando a tabela de venda com a de pedidos. "
   ]
  },
  {
   "cell_type": "code",
   "execution_count": 4,
   "id": "2a136ec8-2463-40bc-911a-18f90944c8a1",
   "metadata": {},
   "outputs": [],
   "source": [
    "vendas_pedidos = pd.merge(vendas, pedidos, left_on='Pedido', right_on='ï»¿ID Pedido', how='left')"
   ]
  },
  {
   "cell_type": "markdown",
   "id": "0f958125-f73d-4782-aa38-5340f9d1b485",
   "metadata": {},
   "source": [
    "<br>"
   ]
  },
  {
   "cell_type": "markdown",
   "id": "ce18f326-0375-4305-8e1f-c30bdb0d7e37",
   "metadata": {},
   "source": [
    "                                                                    Em seguida, combinando o resultado acima com a tabela de produtos."
   ]
  },
  {
   "cell_type": "code",
   "execution_count": 5,
   "id": "707a2191-a7da-4d6f-8f9f-3cb8732ad8a7",
   "metadata": {},
   "outputs": [],
   "source": [
    "vendas_pedidos_produtos = pd.merge(vendas_pedidos, produtos, left_on='Produto', right_on='ID Produto', how='left')"
   ]
  },
  {
   "cell_type": "markdown",
   "id": "ef50e1a2-8a30-462b-9180-91fde3797db6",
   "metadata": {},
   "source": [
    "<br>"
   ]
  },
  {
   "cell_type": "markdown",
   "id": "a56cd3f2-21f5-4246-9784-f793f0a8340d",
   "metadata": {},
   "source": [
    "                                                                                Sequencialmente, misturando com a tabela de clientes. "
   ]
  },
  {
   "cell_type": "code",
   "execution_count": 6,
   "id": "23684363-a1b7-4f43-bea7-9ec5e24e8dcb",
   "metadata": {},
   "outputs": [],
   "source": [
    "tf = pd.merge(vendas_pedidos_produtos, clientes, left_on='Cliente', right_on='ID Cliente', how='left')"
   ]
  },
  {
   "cell_type": "markdown",
   "id": "6d3e37fd-211e-4cf5-b398-3f7db4768518",
   "metadata": {},
   "source": [
    "<br>"
   ]
  },
  {
   "cell_type": "markdown",
   "id": "d9c06744-ec79-4277-8e0b-a2ae8efdac8a",
   "metadata": {},
   "source": [
    "                                                        Removendo as colunas 'Produto', 'Cliente' e 'ID Pedido' pois são duplicatas."
   ]
  },
  {
   "cell_type": "code",
   "execution_count": 7,
   "id": "ef31c8f6-84f2-45ba-843c-003343fb4512",
   "metadata": {},
   "outputs": [],
   "source": [
    "tf = tf.drop(columns=['Cliente', 'ï»¿ID Pedido', 'Produto'])"
   ]
  },
  {
   "cell_type": "markdown",
   "id": "e3948539-d210-4ec2-b1a3-9886ed8b03dc",
   "metadata": {},
   "source": [
    "<br>"
   ]
  },
  {
   "cell_type": "markdown",
   "id": "f53867af-8571-443d-8def-4f6d82c8e13d",
   "metadata": {
    "jp-MarkdownHeadingCollapsed": true
   },
   "source": [
    "# Verificando se há Anormalidades nos dados"
   ]
  },
  {
   "cell_type": "code",
   "execution_count": 8,
   "id": "8199d718-d0b3-43ce-b35b-3b70b2adaf0e",
   "metadata": {},
   "outputs": [
    {
     "data": {
      "text/plain": [
       "Index(['Pedido', 'Valor Venda', 'Quantidade Vendida', 'Custo Envio',\n",
       "       'Data Pedido', 'Data Envio', 'Modo Envio', 'Prioridade Pedido',\n",
       "       'ID Produto', 'Categoria', 'SubCategoria', 'Nome Produto', 'ID Cliente',\n",
       "       'Nome Cliente', 'Segmento', 'Cidade', 'Estado', 'Pais', 'Mercado',\n",
       "       'Regiao'],\n",
       "      dtype='object')"
      ]
     },
     "execution_count": 8,
     "metadata": {},
     "output_type": "execute_result"
    }
   ],
   "source": [
    "tf.columns"
   ]
  },
  {
   "cell_type": "code",
   "execution_count": 9,
   "id": "ea1fa294-8096-42ed-bd5a-57fb302ba823",
   "metadata": {},
   "outputs": [
    {
     "name": "stdout",
     "output_type": "stream",
     "text": [
      "<class 'pandas.core.frame.DataFrame'>\n",
      "RangeIndex: 51304 entries, 0 to 51303\n",
      "Data columns (total 20 columns):\n",
      " #   Column              Non-Null Count  Dtype \n",
      "---  ------              --------------  ----- \n",
      " 0   Pedido              51304 non-null  object\n",
      " 1   Valor Venda         51304 non-null  object\n",
      " 2   Quantidade Vendida  51304 non-null  int64 \n",
      " 3   Custo Envio         51304 non-null  object\n",
      " 4   Data Pedido         51304 non-null  object\n",
      " 5   Data Envio          51304 non-null  object\n",
      " 6   Modo Envio          51304 non-null  object\n",
      " 7   Prioridade Pedido   51304 non-null  object\n",
      " 8   ID Produto          51304 non-null  object\n",
      " 9   Categoria           51304 non-null  object\n",
      " 10  SubCategoria        51304 non-null  object\n",
      " 11  Nome Produto        51304 non-null  object\n",
      " 12  ID Cliente          51304 non-null  object\n",
      " 13  Nome Cliente        51304 non-null  object\n",
      " 14  Segmento            51304 non-null  object\n",
      " 15  Cidade              51304 non-null  object\n",
      " 16  Estado              51304 non-null  object\n",
      " 17  Pais                51304 non-null  object\n",
      " 18  Mercado             51304 non-null  object\n",
      " 19  Regiao              51304 non-null  object\n",
      "dtypes: int64(1), object(19)\n",
      "memory usage: 7.8+ MB\n"
     ]
    }
   ],
   "source": [
    "tf.info()"
   ]
  },
  {
   "cell_type": "code",
   "execution_count": 10,
   "id": "1b4b5874-7d57-4ac1-90e1-c2fa7e0d530f",
   "metadata": {
    "scrolled": true
   },
   "outputs": [
    {
     "data": {
      "text/plain": [
       "(51304, 20)"
      ]
     },
     "execution_count": 10,
     "metadata": {},
     "output_type": "execute_result"
    }
   ],
   "source": [
    "tf.shape"
   ]
  },
  {
   "cell_type": "code",
   "execution_count": 11,
   "id": "cbed6004-ef3d-4479-ab4a-5ee913149007",
   "metadata": {},
   "outputs": [
    {
     "data": {
      "text/html": [
       "<div>\n",
       "<style scoped>\n",
       "    .dataframe tbody tr th:only-of-type {\n",
       "        vertical-align: middle;\n",
       "    }\n",
       "\n",
       "    .dataframe tbody tr th {\n",
       "        vertical-align: top;\n",
       "    }\n",
       "\n",
       "    .dataframe thead th {\n",
       "        text-align: right;\n",
       "    }\n",
       "</style>\n",
       "<table border=\"1\" class=\"dataframe\">\n",
       "  <thead>\n",
       "    <tr style=\"text-align: right;\">\n",
       "      <th></th>\n",
       "      <th>Pedido</th>\n",
       "      <th>Valor Venda</th>\n",
       "      <th>Quantidade Vendida</th>\n",
       "      <th>Custo Envio</th>\n",
       "      <th>Data Pedido</th>\n",
       "      <th>Data Envio</th>\n",
       "      <th>Modo Envio</th>\n",
       "      <th>Prioridade Pedido</th>\n",
       "      <th>ID Produto</th>\n",
       "      <th>Categoria</th>\n",
       "      <th>SubCategoria</th>\n",
       "      <th>Nome Produto</th>\n",
       "      <th>ID Cliente</th>\n",
       "      <th>Nome Cliente</th>\n",
       "      <th>Segmento</th>\n",
       "      <th>Cidade</th>\n",
       "      <th>Estado</th>\n",
       "      <th>Pais</th>\n",
       "      <th>Mercado</th>\n",
       "      <th>Regiao</th>\n",
       "    </tr>\n",
       "  </thead>\n",
       "  <tbody>\n",
       "    <tr>\n",
       "      <th>0</th>\n",
       "      <td>CA-2012-124891</td>\n",
       "      <td>2309,65</td>\n",
       "      <td>7</td>\n",
       "      <td>933,57</td>\n",
       "      <td>31/07/2012</td>\n",
       "      <td>31/07/2012</td>\n",
       "      <td>Mesmo Dia</td>\n",
       "      <td>Critico</td>\n",
       "      <td>TEC-AC-10003033</td>\n",
       "      <td>Tecnologia</td>\n",
       "      <td>Accessories</td>\n",
       "      <td>Plantronics CS510 - Over-the-Head monaural Wir...</td>\n",
       "      <td>RH-19495</td>\n",
       "      <td>Rick Hansen</td>\n",
       "      <td>Consumidor</td>\n",
       "      <td>New York City</td>\n",
       "      <td>New York</td>\n",
       "      <td>United States</td>\n",
       "      <td>US</td>\n",
       "      <td>East</td>\n",
       "    </tr>\n",
       "    <tr>\n",
       "      <th>1</th>\n",
       "      <td>CA-2012-124891</td>\n",
       "      <td>2309,65</td>\n",
       "      <td>7</td>\n",
       "      <td>933,57</td>\n",
       "      <td>31/07/2012</td>\n",
       "      <td>31/07/2012</td>\n",
       "      <td>Mesmo Dia</td>\n",
       "      <td>Critico</td>\n",
       "      <td>TEC-AC-10003033</td>\n",
       "      <td>Tecnologia</td>\n",
       "      <td>Accessories</td>\n",
       "      <td>Plantronics CS510 - Over-the-Head monaural Wir...</td>\n",
       "      <td>RH-19495</td>\n",
       "      <td>Rick Hansen</td>\n",
       "      <td>Consumidor</td>\n",
       "      <td>New York City</td>\n",
       "      <td>New York</td>\n",
       "      <td>United States</td>\n",
       "      <td>US</td>\n",
       "      <td>East</td>\n",
       "    </tr>\n",
       "    <tr>\n",
       "      <th>2</th>\n",
       "      <td>CA-2012-124891</td>\n",
       "      <td>2309,65</td>\n",
       "      <td>7</td>\n",
       "      <td>933,57</td>\n",
       "      <td>31/07/2012</td>\n",
       "      <td>31/07/2012</td>\n",
       "      <td>Mesmo Dia</td>\n",
       "      <td>Critico</td>\n",
       "      <td>TEC-AC-10003033</td>\n",
       "      <td>Tecnologia</td>\n",
       "      <td>Accessories</td>\n",
       "      <td>Plantronics CS510 - Over-the-Head monaural Wir...</td>\n",
       "      <td>RH-19495</td>\n",
       "      <td>Rick Hansen</td>\n",
       "      <td>Consumidor</td>\n",
       "      <td>New York City</td>\n",
       "      <td>New York</td>\n",
       "      <td>United States</td>\n",
       "      <td>US</td>\n",
       "      <td>East</td>\n",
       "    </tr>\n",
       "    <tr>\n",
       "      <th>3</th>\n",
       "      <td>CA-2012-124891</td>\n",
       "      <td>2309,65</td>\n",
       "      <td>7</td>\n",
       "      <td>933,57</td>\n",
       "      <td>31/07/2012</td>\n",
       "      <td>31/07/2012</td>\n",
       "      <td>Mesmo Dia</td>\n",
       "      <td>Critico</td>\n",
       "      <td>TEC-AC-10003033</td>\n",
       "      <td>Tecnologia</td>\n",
       "      <td>Accessories</td>\n",
       "      <td>Plantronics CS510 - Over-the-Head monaural Wir...</td>\n",
       "      <td>RH-19495</td>\n",
       "      <td>Rick Hansen</td>\n",
       "      <td>Consumidor</td>\n",
       "      <td>New York City</td>\n",
       "      <td>New York</td>\n",
       "      <td>United States</td>\n",
       "      <td>US</td>\n",
       "      <td>East</td>\n",
       "    </tr>\n",
       "    <tr>\n",
       "      <th>4</th>\n",
       "      <td>IN-2013-77878</td>\n",
       "      <td>3709,395</td>\n",
       "      <td>9</td>\n",
       "      <td>923,63</td>\n",
       "      <td>05/02/2013</td>\n",
       "      <td>07/02/2013</td>\n",
       "      <td>Segunda Classe</td>\n",
       "      <td>Critico</td>\n",
       "      <td>FUR-CH-10003950</td>\n",
       "      <td>Moveis</td>\n",
       "      <td>Chairs</td>\n",
       "      <td>Novimex Executive Leather Armchair, Black</td>\n",
       "      <td>JR-16210</td>\n",
       "      <td>Justin Ritter</td>\n",
       "      <td>Corporativo</td>\n",
       "      <td>Wollongong</td>\n",
       "      <td>New South Wales</td>\n",
       "      <td>Australia</td>\n",
       "      <td>APAC</td>\n",
       "      <td>Oceania</td>\n",
       "    </tr>\n",
       "  </tbody>\n",
       "</table>\n",
       "</div>"
      ],
      "text/plain": [
       "           Pedido Valor Venda  Quantidade Vendida Custo Envio Data Pedido  \\\n",
       "0  CA-2012-124891     2309,65                   7      933,57  31/07/2012   \n",
       "1  CA-2012-124891     2309,65                   7      933,57  31/07/2012   \n",
       "2  CA-2012-124891     2309,65                   7      933,57  31/07/2012   \n",
       "3  CA-2012-124891     2309,65                   7      933,57  31/07/2012   \n",
       "4   IN-2013-77878    3709,395                   9      923,63  05/02/2013   \n",
       "\n",
       "   Data Envio      Modo Envio Prioridade Pedido       ID Produto   Categoria  \\\n",
       "0  31/07/2012       Mesmo Dia           Critico  TEC-AC-10003033  Tecnologia   \n",
       "1  31/07/2012       Mesmo Dia           Critico  TEC-AC-10003033  Tecnologia   \n",
       "2  31/07/2012       Mesmo Dia           Critico  TEC-AC-10003033  Tecnologia   \n",
       "3  31/07/2012       Mesmo Dia           Critico  TEC-AC-10003033  Tecnologia   \n",
       "4  07/02/2013  Segunda Classe           Critico  FUR-CH-10003950      Moveis   \n",
       "\n",
       "  SubCategoria                                       Nome Produto ID Cliente  \\\n",
       "0  Accessories  Plantronics CS510 - Over-the-Head monaural Wir...   RH-19495   \n",
       "1  Accessories  Plantronics CS510 - Over-the-Head monaural Wir...   RH-19495   \n",
       "2  Accessories  Plantronics CS510 - Over-the-Head monaural Wir...   RH-19495   \n",
       "3  Accessories  Plantronics CS510 - Over-the-Head monaural Wir...   RH-19495   \n",
       "4       Chairs          Novimex Executive Leather Armchair, Black   JR-16210   \n",
       "\n",
       "    Nome Cliente     Segmento         Cidade           Estado           Pais  \\\n",
       "0    Rick Hansen   Consumidor  New York City         New York  United States   \n",
       "1    Rick Hansen   Consumidor  New York City         New York  United States   \n",
       "2    Rick Hansen   Consumidor  New York City         New York  United States   \n",
       "3    Rick Hansen   Consumidor  New York City         New York  United States   \n",
       "4  Justin Ritter  Corporativo     Wollongong  New South Wales      Australia   \n",
       "\n",
       "  Mercado   Regiao  \n",
       "0      US     East  \n",
       "1      US     East  \n",
       "2      US     East  \n",
       "3      US     East  \n",
       "4    APAC  Oceania  "
      ]
     },
     "execution_count": 11,
     "metadata": {},
     "output_type": "execute_result"
    }
   ],
   "source": [
    "tf.head()  "
   ]
  },
  {
   "cell_type": "code",
   "execution_count": 12,
   "id": "cc8bde67-ceca-46a3-b0cc-5c290f4d7103",
   "metadata": {
    "scrolled": true
   },
   "outputs": [
    {
     "data": {
      "text/plain": [
       "Pedido                0\n",
       "Valor Venda           0\n",
       "Quantidade Vendida    0\n",
       "Custo Envio           0\n",
       "Data Pedido           0\n",
       "Data Envio            0\n",
       "Modo Envio            0\n",
       "Prioridade Pedido     0\n",
       "ID Produto            0\n",
       "Categoria             0\n",
       "SubCategoria          0\n",
       "Nome Produto          0\n",
       "ID Cliente            0\n",
       "Nome Cliente          0\n",
       "Segmento              0\n",
       "Cidade                0\n",
       "Estado                0\n",
       "Pais                  0\n",
       "Mercado               0\n",
       "Regiao                0\n",
       "dtype: int64"
      ]
     },
     "execution_count": 12,
     "metadata": {},
     "output_type": "execute_result"
    }
   ],
   "source": [
    "tf.isnull().sum()"
   ]
  },
  {
   "cell_type": "code",
   "execution_count": 13,
   "id": "9e4aab41-7ad0-4178-8af1-40eefeeb1e57",
   "metadata": {},
   "outputs": [
    {
     "data": {
      "text/plain": [
       "14"
      ]
     },
     "execution_count": 13,
     "metadata": {},
     "output_type": "execute_result"
    }
   ],
   "source": [
    "tf.duplicated().sum()"
   ]
  },
  {
   "cell_type": "markdown",
   "id": "01045f3f-3e3d-4f6b-9435-6183c0c1320b",
   "metadata": {},
   "source": [
    "### *** Aqui observamos que não existem dados nulos, porém há 14 dados duplicados! ***"
   ]
  },
  {
   "cell_type": "markdown",
   "id": "d067b2a9-651c-48b8-89f5-c8147a5f8445",
   "metadata": {},
   "source": [
    "<br>"
   ]
  },
  {
   "cell_type": "markdown",
   "id": "c2c58d17-ba6f-433f-9547-a14cb94c7d44",
   "metadata": {
    "jp-MarkdownHeadingCollapsed": true
   },
   "source": [
    "# Removendo duplicatas"
   ]
  },
  {
   "cell_type": "code",
   "execution_count": 14,
   "id": "189529be-ebb6-4965-baa9-a80517bf811a",
   "metadata": {},
   "outputs": [],
   "source": [
    "tf.drop_duplicates(subset=None, keep=\"first\", inplace=True)"
   ]
  },
  {
   "cell_type": "code",
   "execution_count": 15,
   "id": "7fc9c12d-1158-4a09-a0ee-e91c925d8ad6",
   "metadata": {},
   "outputs": [
    {
     "data": {
      "text/plain": [
       "0"
      ]
     },
     "execution_count": 15,
     "metadata": {},
     "output_type": "execute_result"
    }
   ],
   "source": [
    "tf.duplicated().sum()"
   ]
  },
  {
   "cell_type": "markdown",
   "id": "52873aec-af45-40a8-adb5-4104e50aa2e1",
   "metadata": {},
   "source": [
    "<br>"
   ]
  },
  {
   "cell_type": "markdown",
   "id": "e653abdb-c189-4d22-b8c6-8c466080d31f",
   "metadata": {},
   "source": [
    "# Salvando o arquivo em \".csv\" para execução no PBI ou leitura no Excel"
   ]
  },
  {
   "cell_type": "code",
   "execution_count": 16,
   "id": "9ba9b895-81fe-451a-ad1e-9cbdd173ce77",
   "metadata": {},
   "outputs": [],
   "source": [
    "tf.to_csv('tabela_final.csv', index=False, encoding='latin-1')"
   ]
  }
 ],
 "metadata": {
  "kernelspec": {
   "display_name": "Python 3 (ipykernel)",
   "language": "python",
   "name": "python3"
  },
  "language_info": {
   "codemirror_mode": {
    "name": "ipython",
    "version": 3
   },
   "file_extension": ".py",
   "mimetype": "text/x-python",
   "name": "python",
   "nbconvert_exporter": "python",
   "pygments_lexer": "ipython3",
   "version": "3.11.7"
  }
 },
 "nbformat": 4,
 "nbformat_minor": 5
}
