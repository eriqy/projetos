{
 "cells": [
  {
   "cell_type": "markdown",
   "id": "285d3d60-de0a-44ee-ac47-72fca2b85fce",
   "metadata": {},
   "source": [
    "# Importando libraries e o arquivo de dados"
   ]
  },
  {
   "cell_type": "code",
   "execution_count": 1,
   "id": "cf8faec4-813a-4d81-a384-ecb33dac2dad",
   "metadata": {},
   "outputs": [],
   "source": [
    "import pandas as pd\n",
    "import numpy as np\n",
    "import matplotlib.pyplot as plt\n",
    "import seaborn as sns\n",
    "import warnings"
   ]
  },
  {
   "cell_type": "code",
   "execution_count": 2,
   "id": "1b0ece5c-c0e1-41c5-8299-258c0e2f7031",
   "metadata": {},
   "outputs": [],
   "source": [
    "mkt = pd.read_csv('dados_marketing.csv', encoding='latin-1', sep=';')"
   ]
  },
  {
   "cell_type": "markdown",
   "id": "ee803248-b5f3-416e-b63b-42d1e863597e",
   "metadata": {},
   "source": [
    "# Modelagem de dados"
   ]
  },
  {
   "cell_type": "markdown",
   "id": "da41dfda-dd45-4db2-93da-bb146701fd73",
   "metadata": {},
   "source": [
    "## Observando todos os dados do dataset"
   ]
  },
  {
   "cell_type": "markdown",
   "id": "bffa1e3e-471c-4d83-9652-461d0b20fd9a",
   "metadata": {
    "jp-MarkdownHeadingCollapsed": true
   },
   "source": [
    "### Visão geral"
   ]
  },
  {
   "cell_type": "code",
   "execution_count": 3,
   "id": "a6f77a8a-eecc-409e-9fcf-c25526fd3833",
   "metadata": {},
   "outputs": [
    {
     "data": {
      "text/html": [
       "<div>\n",
       "<style scoped>\n",
       "    .dataframe tbody tr th:only-of-type {\n",
       "        vertical-align: middle;\n",
       "    }\n",
       "\n",
       "    .dataframe tbody tr th {\n",
       "        vertical-align: top;\n",
       "    }\n",
       "\n",
       "    .dataframe thead th {\n",
       "        text-align: right;\n",
       "    }\n",
       "</style>\n",
       "<table border=\"1\" class=\"dataframe\">\n",
       "  <thead>\n",
       "    <tr style=\"text-align: right;\">\n",
       "      <th></th>\n",
       "      <th>ï»¿ID</th>\n",
       "      <th>Ano Nascimento</th>\n",
       "      <th>Escolaridade</th>\n",
       "      <th>Estado Civil</th>\n",
       "      <th>Salario Anual</th>\n",
       "      <th>Filhos em Casa</th>\n",
       "      <th>Adolescentes em Casa</th>\n",
       "      <th>Data Cadastro</th>\n",
       "      <th>Dias Desde Ultima Compra</th>\n",
       "      <th>Gasto com Eletronicos</th>\n",
       "      <th>...</th>\n",
       "      <th>Numero de Compras via Catalogo</th>\n",
       "      <th>Numero de Compras na Loja</th>\n",
       "      <th>Numero Visitas WebSite Mes</th>\n",
       "      <th>Compra na Campanha 1</th>\n",
       "      <th>Compra na Campanha 2</th>\n",
       "      <th>Compra na Campanha 3</th>\n",
       "      <th>Compra na Campanha 4</th>\n",
       "      <th>Compra na Campanha 5</th>\n",
       "      <th>Comprou</th>\n",
       "      <th>Pais</th>\n",
       "    </tr>\n",
       "  </thead>\n",
       "  <tbody>\n",
       "    <tr>\n",
       "      <th>0</th>\n",
       "      <td>2795</td>\n",
       "      <td>1958</td>\n",
       "      <td>Mestrado</td>\n",
       "      <td>Solteiro</td>\n",
       "      <td>30523.0</td>\n",
       "      <td>2</td>\n",
       "      <td>1</td>\n",
       "      <td>07/01/2020</td>\n",
       "      <td>0</td>\n",
       "      <td>5</td>\n",
       "      <td>...</td>\n",
       "      <td>0</td>\n",
       "      <td>2</td>\n",
       "      <td>7</td>\n",
       "      <td>0</td>\n",
       "      <td>0</td>\n",
       "      <td>0</td>\n",
       "      <td>0</td>\n",
       "      <td>0</td>\n",
       "      <td>0</td>\n",
       "      <td>Chile</td>\n",
       "    </tr>\n",
       "    <tr>\n",
       "      <th>1</th>\n",
       "      <td>2285</td>\n",
       "      <td>1954</td>\n",
       "      <td>Mestrado</td>\n",
       "      <td>Casado</td>\n",
       "      <td>36634.0</td>\n",
       "      <td>0</td>\n",
       "      <td>1</td>\n",
       "      <td>05/12/2023</td>\n",
       "      <td>0</td>\n",
       "      <td>213</td>\n",
       "      <td>...</td>\n",
       "      <td>2</td>\n",
       "      <td>5</td>\n",
       "      <td>7</td>\n",
       "      <td>0</td>\n",
       "      <td>0</td>\n",
       "      <td>0</td>\n",
       "      <td>0</td>\n",
       "      <td>0</td>\n",
       "      <td>0</td>\n",
       "      <td>Espanha</td>\n",
       "    </tr>\n",
       "    <tr>\n",
       "      <th>2</th>\n",
       "      <td>115</td>\n",
       "      <td>1966</td>\n",
       "      <td>Mestrado</td>\n",
       "      <td>Solteiro</td>\n",
       "      <td>43456.0</td>\n",
       "      <td>0</td>\n",
       "      <td>1</td>\n",
       "      <td>03/02/2023</td>\n",
       "      <td>0</td>\n",
       "      <td>275</td>\n",
       "      <td>...</td>\n",
       "      <td>1</td>\n",
       "      <td>8</td>\n",
       "      <td>5</td>\n",
       "      <td>0</td>\n",
       "      <td>0</td>\n",
       "      <td>0</td>\n",
       "      <td>0</td>\n",
       "      <td>0</td>\n",
       "      <td>0</td>\n",
       "      <td>Argentina</td>\n",
       "    </tr>\n",
       "    <tr>\n",
       "      <th>3</th>\n",
       "      <td>10470</td>\n",
       "      <td>1979</td>\n",
       "      <td>Mestrado</td>\n",
       "      <td>Solteiro</td>\n",
       "      <td>40662.0</td>\n",
       "      <td>1</td>\n",
       "      <td>0</td>\n",
       "      <td>03/05/2023</td>\n",
       "      <td>0</td>\n",
       "      <td>40</td>\n",
       "      <td>...</td>\n",
       "      <td>1</td>\n",
       "      <td>3</td>\n",
       "      <td>4</td>\n",
       "      <td>0</td>\n",
       "      <td>0</td>\n",
       "      <td>0</td>\n",
       "      <td>0</td>\n",
       "      <td>0</td>\n",
       "      <td>0</td>\n",
       "      <td>Alemanha</td>\n",
       "    </tr>\n",
       "    <tr>\n",
       "      <th>4</th>\n",
       "      <td>4065</td>\n",
       "      <td>1976</td>\n",
       "      <td>Doutorado</td>\n",
       "      <td>Solteiro</td>\n",
       "      <td>49544.0</td>\n",
       "      <td>1</td>\n",
       "      <td>0</td>\n",
       "      <td>02/11/2020</td>\n",
       "      <td>0</td>\n",
       "      <td>308</td>\n",
       "      <td>...</td>\n",
       "      <td>1</td>\n",
       "      <td>8</td>\n",
       "      <td>7</td>\n",
       "      <td>0</td>\n",
       "      <td>0</td>\n",
       "      <td>0</td>\n",
       "      <td>0</td>\n",
       "      <td>0</td>\n",
       "      <td>0</td>\n",
       "      <td>Estados Unidos</td>\n",
       "    </tr>\n",
       "  </tbody>\n",
       "</table>\n",
       "<p>5 rows × 27 columns</p>\n",
       "</div>"
      ],
      "text/plain": [
       "   ï»¿ID  Ano Nascimento Escolaridade Estado Civil  Salario Anual  \\\n",
       "0   2795            1958     Mestrado     Solteiro        30523.0   \n",
       "1   2285            1954     Mestrado       Casado        36634.0   \n",
       "2    115            1966     Mestrado     Solteiro        43456.0   \n",
       "3  10470            1979     Mestrado     Solteiro        40662.0   \n",
       "4   4065            1976    Doutorado     Solteiro        49544.0   \n",
       "\n",
       "   Filhos em Casa  Adolescentes em Casa Data Cadastro  \\\n",
       "0               2                     1    07/01/2020   \n",
       "1               0                     1    05/12/2023   \n",
       "2               0                     1    03/02/2023   \n",
       "3               1                     0    03/05/2023   \n",
       "4               1                     0    02/11/2020   \n",
       "\n",
       "   Dias Desde Ultima Compra  Gasto com Eletronicos  ...  \\\n",
       "0                         0                      5  ...   \n",
       "1                         0                    213  ...   \n",
       "2                         0                    275  ...   \n",
       "3                         0                     40  ...   \n",
       "4                         0                    308  ...   \n",
       "\n",
       "   Numero de Compras via Catalogo  Numero de Compras na Loja  \\\n",
       "0                               0                          2   \n",
       "1                               2                          5   \n",
       "2                               1                          8   \n",
       "3                               1                          3   \n",
       "4                               1                          8   \n",
       "\n",
       "   Numero Visitas WebSite Mes  Compra na Campanha 1  Compra na Campanha 2  \\\n",
       "0                           7                     0                     0   \n",
       "1                           7                     0                     0   \n",
       "2                           5                     0                     0   \n",
       "3                           4                     0                     0   \n",
       "4                           7                     0                     0   \n",
       "\n",
       "   Compra na Campanha 3  Compra na Campanha 4  Compra na Campanha 5  Comprou  \\\n",
       "0                     0                     0                     0        0   \n",
       "1                     0                     0                     0        0   \n",
       "2                     0                     0                     0        0   \n",
       "3                     0                     0                     0        0   \n",
       "4                     0                     0                     0        0   \n",
       "\n",
       "             Pais  \n",
       "0           Chile  \n",
       "1         Espanha  \n",
       "2       Argentina  \n",
       "3        Alemanha  \n",
       "4  Estados Unidos  \n",
       "\n",
       "[5 rows x 27 columns]"
      ]
     },
     "execution_count": 3,
     "metadata": {},
     "output_type": "execute_result"
    }
   ],
   "source": [
    "mkt.head()"
   ]
  },
  {
   "cell_type": "markdown",
   "id": "66730297-cb0e-408e-9ca5-513dcc669353",
   "metadata": {
    "jp-MarkdownHeadingCollapsed": true
   },
   "source": [
    "### Listando todas as colunas "
   ]
  },
  {
   "cell_type": "code",
   "execution_count": 4,
   "id": "746fd114-4859-4ca1-be64-923137a79530",
   "metadata": {},
   "outputs": [
    {
     "data": {
      "text/plain": [
       "Index(['ï»¿ID', 'Ano Nascimento', 'Escolaridade', 'Estado Civil',\n",
       "       'Salario Anual', 'Filhos em Casa', 'Adolescentes em Casa',\n",
       "       'Data Cadastro', 'Dias Desde Ultima Compra', 'Gasto com Eletronicos',\n",
       "       'Gasto com Brinquedos', 'Gasto com Moveis', 'Gasto com Utilidades',\n",
       "       'Gasto com Alimentos', 'Gasto com Vestuario',\n",
       "       'Numero de Compras com Desconto', 'Numero de Compras na Web',\n",
       "       'Numero de Compras via Catalogo', 'Numero de Compras na Loja',\n",
       "       'Numero Visitas WebSite Mes', 'Compra na Campanha 1',\n",
       "       'Compra na Campanha 2', 'Compra na Campanha 3', 'Compra na Campanha 4',\n",
       "       'Compra na Campanha 5', 'Comprou', 'Pais'],\n",
       "      dtype='object')"
      ]
     },
     "execution_count": 4,
     "metadata": {},
     "output_type": "execute_result"
    }
   ],
   "source": [
    "mkt.columns"
   ]
  },
  {
   "cell_type": "markdown",
   "id": "a0fbe9fc-0864-490d-9c42-cd8f10e58ace",
   "metadata": {
    "jp-MarkdownHeadingCollapsed": true
   },
   "source": [
    "#### Renomeando a coluna ID para não ter problemas na hora de chamar algum código"
   ]
  },
  {
   "cell_type": "code",
   "execution_count": 5,
   "id": "18479895-9108-4c3a-86b1-480267bcd45a",
   "metadata": {},
   "outputs": [],
   "source": [
    "mkt.rename(columns={'ï»¿ID': 'ID'}, inplace=True)"
   ]
  },
  {
   "cell_type": "markdown",
   "id": "723dab29-53bd-429f-9104-56f32ee11a15",
   "metadata": {
    "jp-MarkdownHeadingCollapsed": true
   },
   "source": [
    "### Verificando valores indesejados (outliers, duplicados, nulos ou formato incorreto)"
   ]
  },
  {
   "cell_type": "markdown",
   "id": "746df02d-362f-46c4-878e-eea285de85f9",
   "metadata": {},
   "source": [
    "### Outliers"
   ]
  },
  {
   "cell_type": "code",
   "execution_count": 6,
   "id": "84794f24-884b-4b39-a421-a5e3b7cc3a76",
   "metadata": {},
   "outputs": [
    {
     "data": {
      "text/plain": [
       "<Axes: >"
      ]
     },
     "execution_count": 6,
     "metadata": {},
     "output_type": "execute_result"
    },
    {
     "data": {
      "image/png": "[encoded data removed]",
      "text/plain": [
       "<Figure size 640x480 with 1 Axes>"
      ]
     },
     "metadata": {},
     "output_type": "display_data"
    }
   ],
   "source": [
    "sns.boxplot(mkt['Salario Anual'])"
   ]
  },
  {
   "cell_type": "code",
   "execution_count": 7,
   "id": "afe33db9-6b6e-4c39-9945-13b9db76f2dd",
   "metadata": {},
   "outputs": [
    {
     "name": "stdout",
     "output_type": "stream",
     "text": [
      "count      1981.000000\n",
      "mean      52290.852600\n",
      "std       25484.701911\n",
      "min        1730.000000\n",
      "25%       35196.000000\n",
      "50%       51766.000000\n",
      "75%       68281.000000\n",
      "max      666666.000000\n",
      "Name: Salario Anual, dtype: float64\n"
     ]
    }
   ],
   "source": [
    "print(mkt['Salario Anual'].describe())"
   ]
  },
  {
   "cell_type": "markdown",
   "id": "05142306-1bfa-4224-b563-bbf4bc1c2a42",
   "metadata": {},
   "source": [
    "<br>"
   ]
  },
  {
   "cell_type": "markdown",
   "id": "51a5c20f-2b3e-4b66-b011-e810fa7b71a5",
   "metadata": {},
   "source": [
    "<strong><u>Média e Mediana</u></strong>: A <strong>média</strong> do salário anual é <strong>52.290,85</strong> e a <strong>mediana</strong> é <strong>51.766,00</strong>. Isso sugere que a distribuição dos salários é aproximadamente <strong>simétrica</strong>, mas a presença de valores extremos (<strong><u>outliers</u></strong>) pode estar puxando a <strong>média</strong> para cima.\n",
    "\n",
    "<strong><u>Desvio Padrão</u></strong>: O <strong>desvio padrão</strong> é <strong>25.484,70</strong>, indicando uma alta <strong>variabilidade</strong> nos salários.\n",
    "\n",
    "<strong><u>Valores Extremos</u></strong>: O valor <strong>mínimo</strong> é <strong>1.730,00</strong> e o valor <strong>máximo</strong> é <strong>666.666,00</strong>, o que confirma a presença de <strong><u>outliers significativos.</u></strong> \n"
   ]
  },
  {
   "cell_type": "markdown",
   "id": "98a0de02-5e1e-41a5-851c-a4cdff7b3fd3",
   "metadata": {},
   "source": [
    "<br>"
   ]
  },
  {
   "cell_type": "markdown",
   "id": "c7d52e89-6349-4eb6-8113-61458dc82a5b",
   "metadata": {},
   "source": [
    "Vamos substituir os outliers aplicando a <strong>Mediana</strong>"
   ]
  },
  {
   "cell_type": "markdown",
   "id": "d135afb7-c2d8-43b5-8f0c-6283bad0aa4b",
   "metadata": {},
   "source": [
    "<br>"
   ]
  },
  {
   "cell_type": "markdown",
   "id": "b49bf039-cc5b-4642-8ed9-b3f83e40da60",
   "metadata": {
    "jp-MarkdownHeadingCollapsed": true
   },
   "source": [
    "##### - Tratando outliers"
   ]
  },
  {
   "cell_type": "markdown",
   "id": "667df597-453c-4474-b4f8-3d509b779eb2",
   "metadata": {
    "jp-MarkdownHeadingCollapsed": true
   },
   "source": [
    "###### - Excluindo o valor discrepante e substituindo pela mediana"
   ]
  },
  {
   "cell_type": "code",
   "execution_count": 8,
   "id": "0ec93507-610b-4631-b823-dbb53c4d3e62",
   "metadata": {},
   "outputs": [
    {
     "name": "stdout",
     "output_type": "stream",
     "text": [
      "count      1981.000000\n",
      "mean      51980.453811\n",
      "std       21418.193577\n",
      "min        1730.000000\n",
      "25%       35196.000000\n",
      "50%       51766.000000\n",
      "75%       68274.000000\n",
      "max      162397.000000\n",
      "Name: Salario Anual, dtype: float64\n"
     ]
    }
   ],
   "source": [
    "median_value = mkt['Salario Anual'].median()\n",
    "outlier_index = mkt['Salario Anual'].idxmax()\n",
    "mkt.at[outlier_index, 'Salario Anual'] = median_value\n",
    "print(mkt['Salario Anual'].describe())"
   ]
  },
  {
   "cell_type": "code",
   "execution_count": 9,
   "id": "d5e697ed-1269-4e8e-96da-c01951d7c133",
   "metadata": {},
   "outputs": [
    {
     "data": {
      "text/plain": [
       "<Axes: >"
      ]
     },
     "execution_count": 9,
     "metadata": {},
     "output_type": "execute_result"
    },
    {
     "data": {
      "image/png": "[encoded data removed]",
      "text/plain": [
       "<Figure size 640x480 with 1 Axes>"
      ]
     },
     "metadata": {},
     "output_type": "display_data"
    }
   ],
   "source": [
    "sns.boxplot(mkt['Salario Anual'])"
   ]
  },
  {
   "cell_type": "markdown",
   "id": "a41a3841-7200-47dc-bc4b-e9a8da66de31",
   "metadata": {},
   "source": [
    "                                                                                                    Dados extremos tratados com sucesso!"
   ]
  },
  {
   "cell_type": "markdown",
   "id": "3910d3e3-6393-4e8f-b7d1-db4fca92519f",
   "metadata": {},
   "source": [
    "### Nulos"
   ]
  },
  {
   "cell_type": "code",
   "execution_count": 10,
   "id": "1bb06e57-3dc3-4ea9-90d1-e7e416f3a24d",
   "metadata": {
    "scrolled": true
   },
   "outputs": [
    {
     "data": {
      "text/plain": [
       "ID                                 0\n",
       "Ano Nascimento                     0\n",
       "Escolaridade                       0\n",
       "Estado Civil                       0\n",
       "Salario Anual                     19\n",
       "Filhos em Casa                     0\n",
       "Adolescentes em Casa               0\n",
       "Data Cadastro                      0\n",
       "Dias Desde Ultima Compra           0\n",
       "Gasto com Eletronicos              0\n",
       "Gasto com Brinquedos               0\n",
       "Gasto com Moveis                   0\n",
       "Gasto com Utilidades               0\n",
       "Gasto com Alimentos                0\n",
       "Gasto com Vestuario                0\n",
       "Numero de Compras com Desconto     0\n",
       "Numero de Compras na Web           0\n",
       "Numero de Compras via Catalogo     0\n",
       "Numero de Compras na Loja          0\n",
       "Numero Visitas WebSite Mes         0\n",
       "Compra na Campanha 1               0\n",
       "Compra na Campanha 2               0\n",
       "Compra na Campanha 3               0\n",
       "Compra na Campanha 4               0\n",
       "Compra na Campanha 5               0\n",
       "Comprou                            0\n",
       "Pais                               0\n",
       "dtype: int64"
      ]
     },
     "execution_count": 10,
     "metadata": {},
     "output_type": "execute_result"
    }
   ],
   "source": [
    "mkt.isnull().sum()"
   ]
  },
  {
   "cell_type": "markdown",
   "id": "0b5f2890-676e-4072-b91b-9515efa93483",
   "metadata": {},
   "source": [
    "<Br>"
   ]
  },
  {
   "cell_type": "markdown",
   "id": "f8ca3e65-682f-4024-a0e9-d3aad1b8c361",
   "metadata": {},
   "source": [
    "Percebemos que há 19 dados nulos em \"Salário Anual\", iremos corrigir aplicando a mediana em cima desses dados nulos."
   ]
  },
  {
   "cell_type": "markdown",
   "id": "d0f241c0-a9f9-4a9f-baa2-962a3b356953",
   "metadata": {},
   "source": [
    "<Br>"
   ]
  },
  {
   "cell_type": "code",
   "execution_count": 11,
   "id": "17805148-f362-44d3-bffe-20f86525af13",
   "metadata": {
    "scrolled": true
   },
   "outputs": [
    {
     "name": "stdout",
     "output_type": "stream",
     "text": [
      "count      2000.000000\n",
      "mean      51978.416500\n",
      "std       21316.173398\n",
      "min        1730.000000\n",
      "25%       35409.000000\n",
      "50%       51766.000000\n",
      "75%       68117.250000\n",
      "max      162397.000000\n",
      "Name: Salario Anual, dtype: float64\n"
     ]
    },
    {
     "name": "stderr",
     "output_type": "stream",
     "text": [
      "C:\\Users\\èriqy\\AppData\\Local\\Temp\\ipykernel_12856\\4046880484.py:1: FutureWarning: A value is trying to be set on a copy of a DataFrame or Series through chained assignment using an inplace method.\n",
      "The behavior will change in pandas 3.0. This inplace method will never work because the intermediate object on which we are setting values always behaves as a copy.\n",
      "\n",
      "For example, when doing 'df[col].method(value, inplace=True)', try using 'df.method({col: value}, inplace=True)' or df[col] = df[col].method(value) instead, to perform the operation inplace on the original object.\n",
      "\n",
      "\n",
      "  mkt['Salario Anual'].fillna(mkt['Salario Anual'].median(), inplace=True)\n"
     ]
    },
    {
     "data": {
      "text/plain": [
       "ID                                0\n",
       "Ano Nascimento                    0\n",
       "Escolaridade                      0\n",
       "Estado Civil                      0\n",
       "Salario Anual                     0\n",
       "Filhos em Casa                    0\n",
       "Adolescentes em Casa              0\n",
       "Data Cadastro                     0\n",
       "Dias Desde Ultima Compra          0\n",
       "Gasto com Eletronicos             0\n",
       "Gasto com Brinquedos              0\n",
       "Gasto com Moveis                  0\n",
       "Gasto com Utilidades              0\n",
       "Gasto com Alimentos               0\n",
       "Gasto com Vestuario               0\n",
       "Numero de Compras com Desconto    0\n",
       "Numero de Compras na Web          0\n",
       "Numero de Compras via Catalogo    0\n",
       "Numero de Compras na Loja         0\n",
       "Numero Visitas WebSite Mes        0\n",
       "Compra na Campanha 1              0\n",
       "Compra na Campanha 2              0\n",
       "Compra na Campanha 3              0\n",
       "Compra na Campanha 4              0\n",
       "Compra na Campanha 5              0\n",
       "Comprou                           0\n",
       "Pais                              0\n",
       "dtype: int64"
      ]
     },
     "execution_count": 11,
     "metadata": {},
     "output_type": "execute_result"
    }
   ],
   "source": [
    "mkt['Salario Anual'].fillna(mkt['Salario Anual'].median(), inplace=True)\n",
    "print(mkt['Salario Anual'].describe())\n",
    "mkt.isnull().sum()"
   ]
  },
  {
   "cell_type": "markdown",
   "id": "a634c95f-32f1-4bbf-a588-02aa801e216c",
   "metadata": {},
   "source": [
    "                                                                                                        Valores nulos corrigidos..."
   ]
  },
  {
   "cell_type": "markdown",
   "id": "b0494aa7-88fb-40b5-9d92-9df47ecd3e70",
   "metadata": {},
   "source": [
    "### Duplicados"
   ]
  },
  {
   "cell_type": "code",
   "execution_count": 13,
   "id": "292bed22-21b0-4ce1-b299-63b04a7dc264",
   "metadata": {},
   "outputs": [
    {
     "data": {
      "text/plain": [
       "0"
      ]
     },
     "execution_count": 13,
     "metadata": {},
     "output_type": "execute_result"
    }
   ],
   "source": [
    "mkt.duplicated().sum()"
   ]
  },
  {
   "cell_type": "markdown",
   "id": "16856562-0a17-4be1-96d7-adc6595d8210",
   "metadata": {},
   "source": [
    "Não há dados duplicados!"
   ]
  },
  {
   "cell_type": "markdown",
   "id": "4b0da902-5344-4ba4-938e-829ef2f86441",
   "metadata": {},
   "source": [
    "### Mudando o tipo de dados para reconhecimento correto no PowerBI"
   ]
  },
  {
   "cell_type": "code",
   "execution_count": 14,
   "id": "1caa6002-a081-46df-99d2-2332ef77b4f5",
   "metadata": {},
   "outputs": [],
   "source": [
    "mkt['Salario Anual'] = mkt['Salario Anual'].astype('Int64')"
   ]
  },
  {
   "cell_type": "markdown",
   "id": "2fcae0bb-3542-4381-a58c-e51c01a24596",
   "metadata": {},
   "source": [
    "# Salvando"
   ]
  },
  {
   "cell_type": "code",
   "execution_count": 15,
   "id": "e4192ec2-27fd-4857-b4a9-e98cc85eb3ee",
   "metadata": {},
   "outputs": [],
   "source": [
    "mkt.to_csv('dados_marketing_final.csv', index=False, encoding='latin-1')"
   ]
  }
 ],
 "metadata": {
  "kernelspec": {
   "display_name": "Python 3 (ipykernel)",
   "language": "python",
   "name": "python3"
  },
  "language_info": {
   "codemirror_mode": {
    "name": "ipython",
    "version": 3
   },
   "file_extension": ".py",
   "mimetype": "text/x-python",
   "name": "python",
   "nbconvert_exporter": "python",
   "pygments_lexer": "ipython3",
   "version": "3.11.7"
  }
 },
 "nbformat": 4,
 "nbformat_minor": 5
}
